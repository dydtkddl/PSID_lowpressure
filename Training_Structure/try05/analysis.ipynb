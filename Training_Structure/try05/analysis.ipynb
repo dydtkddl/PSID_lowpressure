{
 "cells": [
  {
   "cell_type": "code",
   "execution_count": 1,
   "id": "7d7e547b",
   "metadata": {},
   "outputs": [],
   "source": [
    "import pandas as pd \n"
   ]
  },
  {
   "cell_type": "code",
   "execution_count": 2,
   "id": "7fc18662",
   "metadata": {},
   "outputs": [],
   "source": [
    "import numpy as np \n",
    "import os \n"
   ]
  },
  {
   "cell_type": "code",
   "execution_count": 4,
   "id": "964bf8b9",
   "metadata": {},
   "outputs": [],
   "source": [
    "import os\n",
    "from pathlib import Path\n",
    "\n",
    "def remove_empty_subdirs(root: Path):\n",
    "    \"\"\"\n",
    "    root 하위 1단계 디렉토리 중, 비어있으면 삭제\n",
    "    \"\"\"\n",
    "    for sub in root.iterdir():\n",
    "        if sub.is_dir():\n",
    "            if not os.listdir(sub):  # 내부에 아무것도 없음\n",
    "                print(f\"[DELETE] {sub}\")\n",
    "                sub.rmdir()\n",
    "\n",
    "# 사용 예시\n",
    "# if __name__ == \"__main__\":\n",
    "ROOT = Path(\"./\")  # 최상위 폴더\n",
    "remove_empty_subdirs(ROOT)\n"
   ]
  }
 ],
 "metadata": {
  "kernelspec": {
   "display_name": "base",
   "language": "python",
   "name": "python3"
  },
  "language_info": {
   "codemirror_mode": {
    "name": "ipython",
    "version": 3
   },
   "file_extension": ".py",
   "mimetype": "text/x-python",
   "name": "python",
   "nbconvert_exporter": "python",
   "pygments_lexer": "ipython3",
   "version": "3.11.7"
  }
 },
 "nbformat": 4,
 "nbformat_minor": 5
}
