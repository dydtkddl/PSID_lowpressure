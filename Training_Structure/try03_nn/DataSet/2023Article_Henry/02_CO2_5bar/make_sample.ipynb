{
 "cells": [
  {
   "cell_type": "code",
   "execution_count": null,
   "id": "aa7f8258",
   "metadata": {},
   "outputs": [
    {
     "name": "stdout",
     "output_type": "stream",
     "text": [
      "3307\n",
      "3378\n"
     ]
    },
    {
     "data": {
      "text/plain": [
       "3307"
      ]
     },
     "execution_count": 24,
     "metadata": {},
     "output_type": "execute_result"
    }
   ],
   "source": [
    "def read_txt(filename):\n",
    "    with open(filename, 'r') as f:\n",
    "        lines = f.readlines()\n",
    "    return [x.strip() for x in lines]\n",
    "txt = read_txt(\"intersection_mofs.txt\")\n",
    "txt\n",
    "\n",
    "import pandas as pd \n",
    "import os \n",
    "ddec_cifs = os.listdir(\"../01_Validation_DDEC/MOFs_cifs_data_ddec_charges/\")\n",
    "lis = []\n",
    "ddec_cifs = [ x.replace(\".cif\", \"\") for x in ddec_cifs ]\n",
    "count = 0\n",
    "for item in txt:\n",
    "    count_ = 0\n",
    "    for i in  ddec_cifs:\n",
    "        if item + \"_\" in i:\n",
    "            count+=1\n",
    "            lis.append(i)\n",
    "            # count_+=1\n",
    "print(count)\n",
    "print(len(ddec_cifs))\n",
    "# [ x for x in ddec_cifs if \"GUSNEN01\"  in x]\n",
    "\n",
    "# len(lis)\n",
    "\n"
   ]
  },
  {
   "cell_type": "code",
   "execution_count": null,
   "id": "e4f68c8f",
   "metadata": {},
   "outputs": [],
   "source": []
  },
  {
   "cell_type": "code",
   "execution_count": 16,
   "id": "d4051340",
   "metadata": {},
   "outputs": [
    {
     "data": {
      "text/plain": [
       "['FIJDIM06',\n",
       " 'FIJDIM06',\n",
       " 'FIJDIM06',\n",
       " 'FIJDIM07',\n",
       " 'FIJDIM07',\n",
       " 'FIJDIM07',\n",
       " 'FIJDIM08',\n",
       " 'FIJDIM08',\n",
       " 'FIJDIM08',\n",
       " 'FIJDIM09',\n",
       " 'FIJDIM09',\n",
       " 'FIJDIM09',\n",
       " 'FIJDIM10',\n",
       " 'FIJDIM10',\n",
       " 'FIJDIM10',\n",
       " 'FIJDIM11',\n",
       " 'FIJDIM11',\n",
       " 'FIJDIM11',\n",
       " 'FIJDIM',\n",
       " 'FIJDIM',\n",
       " 'FIJDIM']"
      ]
     },
     "execution_count": 16,
     "metadata": {},
     "output_type": "execute_result"
    }
   ],
   "source": [
    "[ x for x in pd.read_csv(\"../MOF-CO2-main/Co2WithVolumetricAtomTypes.csv\")[\"MOF\"].values if \"FIJDIM\"    in x ]"
   ]
  },
  {
   "cell_type": "code",
   "execution_count": 26,
   "id": "77c55e2c",
   "metadata": {},
   "outputs": [
    {
     "data": {
      "text/plain": [
       "3307"
      ]
     },
     "execution_count": 26,
     "metadata": {},
     "output_type": "execute_result"
    }
   ],
   "source": [
    "l = set([ x.split(\"_\")[0] for x in lis  ])\n",
    "i = set(pd.read_csv(\"../MOF-CO2-main/Co2WithVolumetricAtomTypes.csv\")[\"MOF\"].values)\n",
    "intersection = l.intersection(i)\n",
    "len(intersection)"
   ]
  },
  {
   "cell_type": "code",
   "execution_count": 27,
   "id": "0af5e81c",
   "metadata": {},
   "outputs": [
    {
     "name": "stdout",
     "output_type": "stream",
     "text": [
      "Saved intersection_mofs.txt\n"
     ]
    }
   ],
   "source": [
    "def write_txt(filename, list_):\n",
    "    with open(filename, 'w') as f:\n",
    "        for item in list_:\n",
    "            f.write(\"%s\\n\" % item)  \n",
    "    print(f\"Saved {filename}\")\n",
    "write_txt(\"intersection_mofs.txt\", lis)"
   ]
  }
 ],
 "metadata": {
  "kernelspec": {
   "display_name": "base",
   "language": "python",
   "name": "python3"
  },
  "language_info": {
   "codemirror_mode": {
    "name": "ipython",
    "version": 3
   },
   "file_extension": ".py",
   "mimetype": "text/x-python",
   "name": "python",
   "nbconvert_exporter": "python",
   "pygments_lexer": "ipython3",
   "version": "3.11.7"
  }
 },
 "nbformat": 4,
 "nbformat_minor": 5
}
