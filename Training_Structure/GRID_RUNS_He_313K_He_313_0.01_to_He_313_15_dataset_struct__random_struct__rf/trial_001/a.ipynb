{
 "cells": [
  {
   "cell_type": "code",
   "execution_count": 5,
   "id": "9affe1de",
   "metadata": {},
   "outputs": [
    {
     "data": {
      "text/html": [
       "<div>\n",
       "<style scoped>\n",
       "    .dataframe tbody tr th:only-of-type {\n",
       "        vertical-align: middle;\n",
       "    }\n",
       "\n",
       "    .dataframe tbody tr th {\n",
       "        vertical-align: top;\n",
       "    }\n",
       "\n",
       "    .dataframe thead th {\n",
       "        text-align: right;\n",
       "    }\n",
       "</style>\n",
       "<table border=\"1\" class=\"dataframe\">\n",
       "  <thead>\n",
       "    <tr style=\"text-align: right;\">\n",
       "      <th></th>\n",
       "      <th>filename</th>\n",
       "      <th>name</th>\n",
       "      <th>LCD</th>\n",
       "      <th>PLD</th>\n",
       "      <th>LFPD</th>\n",
       "      <th>cm3_g</th>\n",
       "      <th>ASA_m2_cm3</th>\n",
       "      <th>ASA_m2_g</th>\n",
       "      <th>NASA_m2_cm3</th>\n",
       "      <th>NASA_m2_g</th>\n",
       "      <th>AV_VF</th>\n",
       "      <th>AV_cm3_g</th>\n",
       "      <th>NAV_cm3_g</th>\n",
       "      <th>Has_OMS</th>\n",
       "      <th>y_true</th>\n",
       "      <th>y_pred</th>\n",
       "    </tr>\n",
       "  </thead>\n",
       "  <tbody>\n",
       "    <tr>\n",
       "      <th>837</th>\n",
       "      <td>HIHGEM_manual</td>\n",
       "      <td>HIHGEM_manual</td>\n",
       "      <td>9.93245</td>\n",
       "      <td>5.52954</td>\n",
       "      <td>9.93245</td>\n",
       "      <td>1.050180</td>\n",
       "      <td>1644.99</td>\n",
       "      <td>1566.39</td>\n",
       "      <td>0.0</td>\n",
       "      <td>0.0</td>\n",
       "      <td>0.6486</td>\n",
       "      <td>0.617608</td>\n",
       "      <td>0.0</td>\n",
       "      <td>1</td>\n",
       "      <td>6.005409</td>\n",
       "      <td>0.309166</td>\n",
       "    </tr>\n",
       "    <tr>\n",
       "      <th>974</th>\n",
       "      <td>ja406030p_si_007_manual</td>\n",
       "      <td>ja406030p_si_007_manual</td>\n",
       "      <td>11.02963</td>\n",
       "      <td>8.49180</td>\n",
       "      <td>11.02963</td>\n",
       "      <td>0.735801</td>\n",
       "      <td>2134.61</td>\n",
       "      <td>2901.07</td>\n",
       "      <td>0.0</td>\n",
       "      <td>0.0</td>\n",
       "      <td>0.7380</td>\n",
       "      <td>1.002990</td>\n",
       "      <td>0.0</td>\n",
       "      <td>1</td>\n",
       "      <td>10.589112</td>\n",
       "      <td>0.562898</td>\n",
       "    </tr>\n",
       "  </tbody>\n",
       "</table>\n",
       "</div>"
      ],
      "text/plain": [
       "                    filename                     name       LCD      PLD  \\\n",
       "837            HIHGEM_manual            HIHGEM_manual   9.93245  5.52954   \n",
       "974  ja406030p_si_007_manual  ja406030p_si_007_manual  11.02963  8.49180   \n",
       "\n",
       "         LFPD     cm3_g  ASA_m2_cm3  ASA_m2_g  NASA_m2_cm3  NASA_m2_g   AV_VF  \\\n",
       "837   9.93245  1.050180     1644.99   1566.39          0.0        0.0  0.6486   \n",
       "974  11.02963  0.735801     2134.61   2901.07          0.0        0.0  0.7380   \n",
       "\n",
       "     AV_cm3_g  NAV_cm3_g  Has_OMS     y_true    y_pred  \n",
       "837  0.617608        0.0        1   6.005409  0.309166  \n",
       "974  1.002990        0.0        1  10.589112  0.562898  "
      ]
     },
     "execution_count": 5,
     "metadata": {},
     "output_type": "execute_result"
    },
    {
     "data": {
      "image/png": "[encoded data removed]",
      "text/plain": [
       "<Figure size 640x480 with 1 Axes>"
      ]
     },
     "metadata": {},
     "output_type": "display_data"
    }
   ],
   "source": [
    "import os \n",
    "import pandas as pd \n",
    "import numpy as np\n",
    "\n",
    "df = pd.read_csv(\"./predictions_holdout_trial001.csv\")\n",
    "df\n",
    "\n",
    "\n",
    "import matplotlib.pyplot as plt \n",
    "\n",
    "from sklearn.metrics import r2_score\n",
    "\n",
    "r2_score(df[\"y_true\"], df[\"y_pred\"])\n",
    "plt.scatter(df[\"y_true\"], df[\"y_pred\"])\n",
    "\n",
    "df[df[\"y_true\"] > 6]\n"
   ]
  }
 ],
 "metadata": {
  "kernelspec": {
   "display_name": "base",
   "language": "python",
   "name": "python3"
  },
  "language_info": {
   "codemirror_mode": {
    "name": "ipython",
    "version": 3
   },
   "file_extension": ".py",
   "mimetype": "text/x-python",
   "name": "python",
   "nbconvert_exporter": "python",
   "pygments_lexer": "ipython3",
   "version": "3.11.7"
  }
 },
 "nbformat": 4,
 "nbformat_minor": 5
}
