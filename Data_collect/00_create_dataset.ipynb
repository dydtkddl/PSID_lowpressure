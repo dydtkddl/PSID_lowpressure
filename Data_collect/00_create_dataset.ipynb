{
 "cells": [
  {
   "cell_type": "code",
   "execution_count": null,
   "id": "ea0d7b7e",
   "metadata": {},
   "outputs": [],
   "source": [
    "'''\n",
    "1. Input에 저압 흡착량 없는 경우, Output이 절대 흡착량 값인 경우\n",
    "2. Input 저압 흡착량이 있는 경우, Output이 절대 흡착량 값인 경우\n",
    "3. Input에 저압 흡착량이 있고, Output이 상대 흡착량인 경우\n",
    "'''"
   ]
  },
  {
   "cell_type": "code",
   "execution_count": 1,
   "id": "f03432c6",
   "metadata": {},
   "outputs": [],
   "source": [
    "import pandas as pd\n",
    "import numpy as np\n",
    "import matplotlib.pyplot as plt \n",
    "import seaborn as sns\n",
    "import os   \n",
    "import sys\n",
    "import re\n",
    "import math\n",
    "import datetime\n",
    "import time\n",
    "import random\n",
    "import json\n",
    "import copy\n",
    "import pickle\n",
    "import warnings\n",
    "import itertools"
   ]
  },
  {
   "cell_type": "code",
   "execution_count": 3,
   "id": "e766109d",
   "metadata": {},
   "outputs": [],
   "source": [
    "Ar_CPUTIME = pd.read_csv(\"../00_original_data/[DATA]Ar_CPUTIME.csv\")\n",
    "argon_298K_PLDscreened_20250407ver = pd.read_csv(\"../00_original_data/[DATA]argon_298K_PLDscreened_20250407ver.csv\")\n",
    "He_298K_PLDscreened_20250407ver = pd.read_csv(\"../00_original_data/[DATA]He_298K_PLDscreened_20250407ver.csv\")\n",
    "He_CPUTIME = pd.read_csv(\"../00_original_data/[DATA]He_CPUTIME.csv\")\n"
   ]
  },
  {
   "cell_type": "code",
   "execution_count": null,
   "id": "e67e16ce",
   "metadata": {},
   "outputs": [
    {
     "name": "stderr",
     "output_type": "stream",
     "text": [
      "100%|██████████| 3/3 [00:00<00:00,  9.83it/s]\n",
      "100%|██████████| 3/3 [00:00<00:00, 10.36it/s]\n",
      "100%|██████████| 3/3 [00:00<00:00,  8.99it/s]\n",
      "100%|██████████| 3/3 [00:00<00:00,  8.07it/s]\n",
      "100%|██████████| 3/3 [00:00<00:00,  6.06it/s]\n",
      "100%|██████████| 3/3 [00:00<00:00,  5.80it/s]\n",
      "100%|██████████| 3/3 [00:00<00:00,  6.25it/s]\n",
      "100%|██████████| 3/3 [00:00<00:00,  8.07it/s]\n"
     ]
    }
   ],
   "source": [
    "# !pip install scikit-learn\n",
    "from sklearn.preprocessing import LabelEncoder, StandardScaler, MinMaxScaler, RobustScaler, Normalizer\n",
    "from tqdm import tqdm\n",
    "encoder = LabelEncoder()\n",
    "BASE_INPUT_FEATURES = ['name' ,'LCD', 'PLD', 'LFPD','cm3_g', 'ASA_m2_cm3', 'ASA_m2_g', 'NASA_m2_cm3', 'NASA_m2_g', 'AV_VF',\n",
    "       'AV_cm3_g', 'NAV_cm3_g',  'Has_OMS']\n",
    "argon_298K_PLDscreened_20250407ver['Has_OMS'] = encoder.fit_transform(argon_298K_PLDscreened_20250407ver['Has_OMS'])\n",
    "# argon_298K_PLDscreened_20250407ver['Has_OMS'].value_counts()\n",
    "argon_298K_PLDscreened_20250407ver.columns\n",
    "INPUT_ADSORP = ['0.01 bar', '0.05 bar', '0.1 bar', '0.5 bar']\n",
    "OUTPUT_ADSORP = ['1.0 bar', '5.0 bar', '15.0 bar']\n",
    "ABS_REL = ['abs', 'rel']\n",
    "for abs_rel in ABS_REL:\n",
    "    for INPUT in INPUT_ADSORP:\n",
    "        for OUTPUT in tqdm(OUTPUT_ADSORP):\n",
    "            COLUMNS = BASE_INPUT_FEATURES + [INPUT, OUTPUT]\n",
    "            DATA = argon_298K_PLDscreened_20250407ver[COLUMNS].copy()\n",
    "            DATA = DATA.dropna()\n",
    "            DATA = DATA.reset_index(drop=True)\n",
    "            if abs_rel != 'abs':\n",
    "                DATA[OUTPUT] = DATA[OUTPUT]/DATA[INPUT]\n",
    "            DATA.to_csv(f\"Ar_298K_{OUTPUT.replace(\".0 bar\", \"\")}bar/Ar_298K_{abs_rel}_{INPUT}_{OUTPUT}.csv\", index=False)    \n",
    "            "
   ]
  },
  {
   "cell_type": "code",
   "execution_count": 22,
   "id": "4524c866",
   "metadata": {},
   "outputs": [
    {
     "name": "stderr",
     "output_type": "stream",
     "text": [
      "100%|██████████| 3/3 [00:00<00:00,  8.73it/s]\n",
      "100%|██████████| 3/3 [00:00<00:00,  9.52it/s]\n",
      "100%|██████████| 3/3 [00:00<00:00,  9.31it/s]\n",
      "100%|██████████| 3/3 [00:00<00:00,  8.99it/s]\n",
      "100%|██████████| 3/3 [00:00<00:00,  9.63it/s]\n",
      "100%|██████████| 3/3 [00:00<00:00,  9.15it/s]\n",
      "100%|██████████| 3/3 [00:00<00:00,  9.33it/s]\n",
      "100%|██████████| 3/3 [00:00<00:00,  9.10it/s]\n"
     ]
    }
   ],
   "source": [
    "# !pip install scikit-learn\n",
    "from sklearn.preprocessing import LabelEncoder, StandardScaler, MinMaxScaler, RobustScaler, Normalizer\n",
    "from tqdm import tqdm\n",
    "encoder = LabelEncoder()\n",
    "BASE_INPUT_FEATURES = ['name' , 'LCD', 'PLD', 'LFPD','cm3_g', 'ASA_m2_cm3', 'ASA_m2_g', 'NASA_m2_cm3', 'NASA_m2_g', 'AV_VF',\n",
    "       'AV_cm3_g', 'NAV_cm3_g',  'Has_OMS']\n",
    "He_298K_PLDscreened_20250407ver['Has_OMS'] = encoder.fit_transform(He_298K_PLDscreened_20250407ver['Has_OMS'])\n",
    "# argon_298K_PLDscreened_20250407ver['Has_OMS'].value_counts()\n",
    "He_298K_PLDscreened_20250407ver.columns\n",
    "INPUT_ADSORP = ['0.01 bar', '0.05 bar', '0.1 bar', '0.5 bar']\n",
    "OUTPUT_ADSORP = ['1.0 bar', '5.0 bar', '15.0 bar']\n",
    "ABS_REL = ['abs', 'rel']\n",
    "for abs_rel in ABS_REL:\n",
    "    for INPUT in INPUT_ADSORP:\n",
    "        for OUTPUT in tqdm(OUTPUT_ADSORP):\n",
    "            COLUMNS = BASE_INPUT_FEATURES + [INPUT, OUTPUT]\n",
    "            DATA = He_298K_PLDscreened_20250407ver[COLUMNS].copy()\n",
    "            DATA = DATA.dropna()\n",
    "            DATA = DATA.reset_index(drop=True)\n",
    "            if abs_rel != 'abs':\n",
    "                DATA[OUTPUT] = DATA[OUTPUT]/DATA[INPUT]\n",
    "            DATA.to_csv(f\"He_298K_{abs_rel}_{INPUT}_{OUTPUT}.csv\", index=False)    \n",
    "            "
   ]
  },
  {
   "cell_type": "code",
   "execution_count": null,
   "id": "70c806db",
   "metadata": {},
   "outputs": [
    {
     "name": "stderr",
     "output_type": "stream",
     "text": [
      "100%|██████████| 3/3 [00:00<00:00,  9.61it/s]\n"
     ]
    }
   ],
   "source": [
    "# !pip install scikit-learn\n",
    "from sklearn.preprocessing import LabelEncoder, StandardScaler, MinMaxScaler, RobustScaler, Normalizer\n",
    "from tqdm import tqdm\n",
    "encoder = LabelEncoder()\n",
    "BASE_INPUT_FEATURES = ['name' , 'LCD', 'PLD', 'LFPD','cm3_g', 'ASA_m2_cm3', 'ASA_m2_g', 'NASA_m2_cm3', 'NASA_m2_g', 'AV_VF',\n",
    "       'AV_cm3_g', 'NAV_cm3_g',  'Has_OMS']\n",
    "He_298K_PLDscreened_20250407ver['Has_OMS'] = encoder.fit_transform(He_298K_PLDscreened_20250407ver['Has_OMS'])\n",
    "# argon_298K_PLDscreened_20250407ver['Has_OMS'].value_counts()\n",
    "He_298K_PLDscreened_20250407ver.columns\n",
    "INPUT_ADSORP = ['0.01 bar', '0.05 bar', '0.1 bar', '0.5 bar']\n",
    "OUTPUT_ADSORP = ['1.0 bar', '5.0 bar', '15.0 bar']\n",
    "for OUTPUT in tqdm(OUTPUT_ADSORP):\n",
    "    COLUMNS = BASE_INPUT_FEATURES + [OUTPUT]\n",
    "    DATA = He_298K_PLDscreened_20250407ver[COLUMNS].copy()\n",
    "    DATA = DATA.dropna()\n",
    "    DATA = DATA.reset_index(drop=True)\n",
    "    DATA.to_csv(f\"He_298K_NOINPUT_ADS_{OUTPUT}.csv\", index=False)    "
   ]
  },
  {
   "cell_type": "code",
   "execution_count": 25,
   "id": "43c6f4f2",
   "metadata": {},
   "outputs": [
    {
     "name": "stderr",
     "output_type": "stream",
     "text": [
      "100%|██████████| 3/3 [00:00<00:00,  6.17it/s]\n"
     ]
    }
   ],
   "source": [
    "# !pip install scikit-learn\n",
    "from sklearn.preprocessing import LabelEncoder, StandardScaler, MinMaxScaler, RobustScaler, Normalizer\n",
    "from tqdm import tqdm\n",
    "encoder = LabelEncoder()\n",
    "BASE_INPUT_FEATURES = ['name' , 'LCD', 'PLD', 'LFPD','cm3_g', 'ASA_m2_cm3', 'ASA_m2_g', 'NASA_m2_cm3', 'NASA_m2_g', 'AV_VF',\n",
    "       'AV_cm3_g', 'NAV_cm3_g',  'Has_OMS']\n",
    "argon_298K_PLDscreened_20250407ver['Has_OMS'] = encoder.fit_transform(argon_298K_PLDscreened_20250407ver['Has_OMS'])\n",
    "# argon_298K_PLDscreened_20250407ver['Has_OMS'].value_counts()\n",
    "argon_298K_PLDscreened_20250407ver.columns\n",
    "INPUT_ADSORP = ['0.01 bar', '0.05 bar', '0.1 bar', '0.5 bar']\n",
    "OUTPUT_ADSORP = ['1.0 bar', '5.0 bar', '15.0 bar']\n",
    "for OUTPUT in tqdm(OUTPUT_ADSORP):\n",
    "    COLUMNS = BASE_INPUT_FEATURES + [OUTPUT]\n",
    "    DATA = argon_298K_PLDscreened_20250407ver[COLUMNS].copy()\n",
    "    DATA = DATA.dropna()\n",
    "    DATA = DATA.reset_index(drop=True)\n",
    "    DATA.to_csv(f\"Ar_298K_NOINPUT_ADS_{OUTPUT}.csv\", index=False)    \n",
    "            "
   ]
  }
 ],
 "metadata": {
  "kernelspec": {
   "display_name": "base",
   "language": "python",
   "name": "python3"
  },
  "language_info": {
   "codemirror_mode": {
    "name": "ipython",
    "version": 3
   },
   "file_extension": ".py",
   "mimetype": "text/x-python",
   "name": "python",
   "nbconvert_exporter": "python",
   "pygments_lexer": "ipython3",
   "version": "3.11.7"
  }
 },
 "nbformat": 4,
 "nbformat_minor": 5
}
