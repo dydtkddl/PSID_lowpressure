{
 "cells": [
  {
   "cell_type": "code",
   "execution_count": 1,
   "id": "affd13be",
   "metadata": {},
   "outputs": [],
   "source": [
    "import os \n",
    "import pandas as pd \n",
    "import numpy as np\n",
    "\n"
   ]
  },
  {
   "cell_type": "code",
   "execution_count": 15,
   "id": "018a96b7",
   "metadata": {},
   "outputs": [
    {
     "name": "stdout",
     "output_type": "stream",
     "text": [
      "Saved sample_mofs.txt\n"
     ]
    }
   ],
   "source": [
    "mofs = os.listdir(\"./MOFs_cifs_data_ddec_charges/\")\n",
    "arr = np.array(mofs)\n",
    "samples = np.random.choice(arr, size=20,replace=False)\n",
    "samples  = [ x.replace(\".cif\", \"\") for x in samples ]\n",
    "def save_list(filename, listname):\n",
    "    with open(filename, 'w') as f:\n",
    "        for item in listname:\n",
    "            f.write(\"%s\\n\" % item)\n",
    "    print(f\"Saved {filename}\")\n",
    "save_list(\"sample_mofs.txt\", samples)"
   ]
  }
 ],
 "metadata": {
  "kernelspec": {
   "display_name": "base",
   "language": "python",
   "name": "python3"
  },
  "language_info": {
   "codemirror_mode": {
    "name": "ipython",
    "version": 3
   },
   "file_extension": ".py",
   "mimetype": "text/x-python",
   "name": "python",
   "nbconvert_exporter": "python",
   "pygments_lexer": "ipython3",
   "version": "3.11.7"
  }
 },
 "nbformat": 4,
 "nbformat_minor": 5
}
