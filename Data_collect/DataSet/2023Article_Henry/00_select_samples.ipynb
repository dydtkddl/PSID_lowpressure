{
 "cells": [
  {
   "cell_type": "markdown",
   "id": "2c5611e0",
   "metadata": {},
   "source": [
    "## Henry constant를 구해볼 sample 28개만 샘플링해보나"
   ]
  },
  {
   "cell_type": "code",
   "execution_count": 18,
   "id": "52248c1f",
   "metadata": {},
   "outputs": [
    {
     "name": "stdout",
     "output_type": "stream",
     "text": [
      "Wrote 28 samples to pld_gt_3.3_samples.txt\n"
     ]
    },
    {
     "name": "stderr",
     "output_type": "stream",
     "text": [
      "C:\\Users\\PSID_PC_20\\AppData\\Local\\Temp\\ipykernel_33244\\492838380.py:10: SettingWithCopyWarning: \n",
      "A value is trying to be set on a copy of a slice from a DataFrame.\n",
      "Try using .loc[row_indexer,col_indexer] = value instead\n",
      "\n",
      "See the caveats in the documentation: https://pandas.pydata.org/pandas-docs/stable/user_guide/indexing.html#returning-a-view-versus-a-copy\n",
      "  CO2_PLD[\"MOF\"] = CO2_PLD[\"filename\"].str.replace(\"_clean\", \"\")\n"
     ]
    }
   ],
   "source": [
    "import pandas as pd \n",
    "import numpy as np \n",
    "import os \n",
    "\n",
    "df = pd.read_csv(\"./MOF-CO2-main/Co2WithVolumetricAtomTypes.csv\").iloc[:, 2:]\n",
    "COREMOFs = pd.read_csv(\"../../2019-11-01-ASR-public_12020.csv\")\n",
    "\n",
    "CO2_PLD = COREMOFs[COREMOFs[\"PLD\"] > 3.3]\n",
    "# df\n",
    "CO2_PLD[\"MOF\"] = CO2_PLD[\"filename\"].str.replace(\"_clean\", \"\")\n",
    "MERGED = pd.merge( CO2_PLD, df, on=\"MOF\", how = 'inner' )\n",
    "SAMPLES  = MERGED.sample(28, random_state=41)[\"filename\"].values\n",
    "def write_samples(sample_list, filename):\n",
    "    with open(filename, \"w\") as f:\n",
    "        for sample in sample_list:\n",
    "            f.write(f\"{sample}\\n\")\n",
    "    print(f\"Wrote {len(sample_list)} samples to {filename}\")\n",
    "\n",
    "write_samples(SAMPLES, \"pld_gt_3.3_samples.txt\")"
   ]
  }
 ],
 "metadata": {
  "kernelspec": {
   "display_name": "base",
   "language": "python",
   "name": "python3"
  },
  "language_info": {
   "codemirror_mode": {
    "name": "ipython",
    "version": 3
   },
   "file_extension": ".py",
   "mimetype": "text/x-python",
   "name": "python",
   "nbconvert_exporter": "python",
   "pygments_lexer": "ipython3",
   "version": "3.11.7"
  }
 },
 "nbformat": 4,
 "nbformat_minor": 5
}
